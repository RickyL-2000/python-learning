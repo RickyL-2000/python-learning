{
 "cells": [
  {
   "cell_type": "code",
   "execution_count": 30,
   "id": "decreased-europe",
   "metadata": {},
   "outputs": [
    {
     "name": "stdout",
     "output_type": "stream",
     "text": [
      "['beep', '-f', '392.0', '-l', '250', '-n', '-f', '392.0', '-l', '250', '-n', '-f', '392.0', '-l', '250', '-n', '-f', '392.0', '-l', '250', '-n', '-f', '466.2', '-l', '250', '-n', '-f', '261.6', '-l', '250', '-n', '-f', '392.0', '-l', '250', '-n', '-f', '392.0', '-l', '250', '-n', '-f', '392.0', '-l', '250', '-n', '-f', '392.0', '-l', '250', '-n', '-f', '349.2', '-l', '250', '-n', '-f', '370.0', '-l', '250', '-n', '-f', '392.0', '-l', '250', '-n', '-f', '10', '-l', '500', '-n', '-f', '392.0', '-l', '250', '-n', '-f', '392.0', '-l', '500', '-n', '-f', '392.0', '-l', '250', '-n', '-f', '392.0', '-l', '250', '-n', '-f', '466.2', '-l', '250', '-n', '-f', '261.6', '-l', '250', '-n', '-f', '392.0', '-l', '250', '-n', '-f', '392.0', '-l', '250', '-n', '-f', '392.0', '-l', '250', '-n', '-f', '392.0', '-l', '250', '-n', '-f', '349.2', '-l', '250', '-n', '-f', '370.0', '-l', '250', '-n', '-f', '392.0', '-l', '500', '-n', '-f', '10', '-l', '500']\n"
     ]
    }
   ],
   "source": [
    "freq = []\n",
    "dura = []\n",
    "\n",
    "with open('monkeyisland.sh', 'r') as file:\n",
    "    data = file.read().split()\n",
    "print(data)\n",
    "for i in range(len(data)):\n",
    "    if data[i] == '-f':\n",
    "        freq.append(round(float(data[i+1])))\n",
    "    if data[i] == '-l':\n",
    "        dura.append(round(float(data[i+1])))"
   ]
  },
  {
   "cell_type": "code",
   "execution_count": 31,
   "id": "further-speech",
   "metadata": {},
   "outputs": [
    {
     "name": "stdout",
     "output_type": "stream",
     "text": [
      "True\n",
      "[392, 392, 392, 392, 466, 262, 392, 392, 392, 392, 349, 370, 392, 10, 392, 392, 392, 392, 466, 262, 392, 392, 392, 392, 349, 370, 392, 10]\n",
      "[250, 250, 250, 250, 250, 250, 250, 250, 250, 250, 250, 250, 250, 500, 250, 500, 250, 250, 250, 250, 250, 250, 250, 250, 250, 250, 500, 500]\n"
     ]
    }
   ],
   "source": [
    "print(len(freq) == len(dura))\n",
    "print(freq)\n",
    "print(dura)"
   ]
  },
  {
   "cell_type": "code",
   "execution_count": null,
   "id": "regulation-motor",
   "metadata": {},
   "outputs": [],
   "source": []
  }
 ],
 "metadata": {
  "kernelspec": {
   "display_name": "Python 3",
   "language": "python",
   "name": "python3"
  },
  "language_info": {
   "codemirror_mode": {
    "name": "ipython",
    "version": 3
   },
   "file_extension": ".py",
   "mimetype": "text/x-python",
   "name": "python",
   "nbconvert_exporter": "python",
   "pygments_lexer": "ipython3",
   "version": "3.7.6"
  }
 },
 "nbformat": 4,
 "nbformat_minor": 5
}